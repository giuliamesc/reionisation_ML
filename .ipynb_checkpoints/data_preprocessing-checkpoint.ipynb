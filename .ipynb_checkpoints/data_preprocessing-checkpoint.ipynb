{
 "cells": [
  {
   "cell_type": "code",
   "execution_count": 2,
   "metadata": {},
   "outputs": [],
   "source": [
    "import numpy as np, matplotlib.pyplot as plt"
   ]
  },
  {
   "cell_type": "markdown",
   "metadata": {},
   "source": [
    "## Importing the data for each redshift"
   ]
  },
  {
   "cell_type": "code",
   "execution_count": 3,
   "metadata": {},
   "outputs": [],
   "source": [
    "#z = 6.905\n",
    "z = 7.305\n",
    "# z = 8.397\n",
    "# z = 10.110\n",
    "\n",
    "n_igm = np.load('../dataset/rho_z%.3f.npy' %z)\n",
    "n_src = np.load('../dataset/nsrc_z%.3f.npy' %z)\n",
    "xi = np.load('../dataset/xHII_z%.3f.npy' %z)"
   ]
  },
  {
   "cell_type": "markdown",
   "metadata": {},
   "source": [
    "Mean Ionisation fraction for the chosen redshift:"
   ]
  },
  {
   "cell_type": "code",
   "execution_count": 4,
   "metadata": {},
   "outputs": [
    {
     "name": "stdout",
     "output_type": "stream",
     "text": [
      "redshift:\n",
      " 7.305\n",
      "mean Ionisation fraction:\n",
      " 0.7533418720408674\n"
     ]
    }
   ],
   "source": [
    "print('redshift:\\n', z)\n",
    "print('mean Ionisation fraction:\\n', np.mean(xi))"
   ]
  },
  {
   "cell_type": "markdown",
   "metadata": {},
   "source": [
    "We now analyze more in detail what happens in each direction; we first choose to observe the behaviour of the 2 features and the output on the three orthogonal axes cutting the cube at its center of gravity."
   ]
  },
  {
   "cell_type": "code",
   "execution_count": 20,
   "metadata": {},
   "outputs": [
    {
     "name": "stdout",
     "output_type": "stream",
     "text": [
      "Mean IGM density in the x direction:\n",
      " 3.9201998e-31\n",
      "Mean number of sources in the x direction:\n",
      " 20918.686235631307\n",
      "Mean Ionisation fraction in the x direction:\n",
      " 0.7047237362224594\n",
      "Mean IGM density in the y direction:\n",
      " 3.773063e-31\n",
      "Mean number of sources in the y direction:\n",
      " 17146.738710606893\n",
      "Mean Ionisation fraction in the y direction:\n",
      " 0.6585446459674628\n",
      "Mean IGM density in the x direction:\n",
      " 3.999281e-31\n",
      "Mean number of sources in the x direction:\n",
      " 19699.80898203532\n",
      "Mean Ionisation fraction in the x direction:\n",
      " 0.7675350039049594\n"
     ]
    }
   ],
   "source": [
    "n_igm_x = n_igm[:,150,150] \n",
    "n_src_x = n_src[:,150,150]\n",
    "xi_x = xi[:,150,150]\n",
    "\n",
    "print('Mean IGM density in the x direction:\\n', np.mean(n_igm_x))\n",
    "print('Mean number of sources in the x direction:\\n', np.mean(n_src_x))\n",
    "print('Mean Ionisation fraction in the x direction:\\n', np.mean(xi_x))\n",
    "\n",
    "n_igm_y = n_igm[150,:,150] \n",
    "n_src_y = n_src[150,:,150]\n",
    "xi_y = xi[150,:,150]\n",
    "\n",
    "print('Mean IGM density in the y direction:\\n', np.mean(n_igm_y))\n",
    "print('Mean number of sources in the y direction:\\n', np.mean(n_src_y))\n",
    "print('Mean Ionisation fraction in the y direction:\\n', np.mean(xi_y))\n",
    "\n",
    "n_igm_z = n_igm[150,150,:] \n",
    "n_src_z = n_src[150,150,:]\n",
    "xi_z = xi[150,150,:]\n",
    "\n",
    "print('Mean IGM density in the x direction:\\n', np.mean(n_igm_z))\n",
    "print('Mean number of sources in the x direction:\\n', np.mean(n_src_z))\n",
    "print('Mean Ionisation fraction in the x direction:\\n', np.mean(xi_z))"
   ]
  },
  {
   "cell_type": "markdown",
   "metadata": {},
   "source": [
    "It emerges that the scale of the two features $n_{igm}$ and $n_{src}$ is extremely different. Therefore, the preprocessing of the data must clearly include a normalization. As there is no significant difference of scale among the various dimensions, a first attempt can be normalizing the whole features using the total mean and standard variation $\\sigma$."
   ]
  },
  {
   "cell_type": "code",
   "execution_count": 32,
   "metadata": {},
   "outputs": [
    {
     "name": "stdout",
     "output_type": "stream",
     "text": [
      "3.9962383e-31\n",
      "21323.7470158028\n",
      "0.0\n",
      "39121.12350834845\n",
      "156.6221826854396\n",
      "-0.5434308937395814\n"
     ]
    }
   ],
   "source": [
    "mean_n_src = np.mean(n_src)\n",
    "std_n_src = np.std(n_src)\n",
    "\n",
    "n_src_norm = (n_src - mean_n_src) / std_n_src # The computation is prossible, and now all n_src are in a reasonable range\n",
    "\n",
    "print(n_src_norm.max())\n",
    "print(n_src_norm.min())"
   ]
  },
  {
   "cell_type": "markdown",
   "metadata": {},
   "source": [
    "For $n_{igm}$, the issue is more delicate, as the total $\\sigma$ results to be 0."
   ]
  },
  {
   "cell_type": "code",
   "execution_count": 36,
   "metadata": {},
   "outputs": [
    {
     "name": "stdout",
     "output_type": "stream",
     "text": [
      "1.4278301\n"
     ]
    }
   ],
   "source": [
    "std_n_igm = np.std(n_igm)\n",
    "print(std_n_igm)"
   ]
  },
  {
   "cell_type": "markdown",
   "metadata": {},
   "source": [
    "We necessarily have to change the scale of $n_{igm}$, else we cannot perform the normalization, and, more critical thing, we cannot except a good performance of the Neural Net keeping this value that low (order of $10^{-31}$!).\n",
    "Two possible options are:\n",
    "- Rescaling the whole dataset by multiplying by $10^{31}$\n",
    "- Change the unit of measure, that is $\\frac{1}{cm^{3}}$ in the original dataset $\\color{red}{\\text{NON HO CAPITO QUALE UDM HA!}}$"
   ]
  },
  {
   "cell_type": "code",
   "execution_count": 42,
   "metadata": {},
   "outputs": [],
   "source": [
    "n_igm = n_igm*1e31\n",
    "mean_n_igm = np.mean(n_igm)\n",
    "std_n_igm = np.std(n_igm)\n",
    "\n",
    "n_igm_norm = (n_igm - mean_n_igm) / std_n_igm\n"
   ]
  },
  {
   "cell_type": "markdown",
   "metadata": {},
   "source": [
    "Now the inputs are adequate."
   ]
  },
  {
   "cell_type": "code",
   "execution_count": null,
   "metadata": {},
   "outputs": [],
   "source": []
  }
 ],
 "metadata": {
  "kernelspec": {
   "display_name": "Python 3",
   "language": "python",
   "name": "python3"
  },
  "language_info": {
   "codemirror_mode": {
    "name": "ipython",
    "version": 3
   },
   "file_extension": ".py",
   "mimetype": "text/x-python",
   "name": "python",
   "nbconvert_exporter": "python",
   "pygments_lexer": "ipython3",
   "version": "3.8.5"
  }
 },
 "nbformat": 4,
 "nbformat_minor": 4
}
