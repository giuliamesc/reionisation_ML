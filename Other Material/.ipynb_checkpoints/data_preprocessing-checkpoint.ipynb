{
 "cells": [
  {
   "cell_type": "code",
   "execution_count": 1,
   "metadata": {},
   "outputs": [],
   "source": [
    "import numpy as np, matplotlib.pyplot as plt"
   ]
  },
  {
   "cell_type": "markdown",
   "metadata": {},
   "source": [
    "## Importing the data for each redshift"
   ]
  },
  {
   "cell_type": "code",
   "execution_count": 2,
   "metadata": {},
   "outputs": [],
   "source": [
    "#z = 6.905\n",
    "z = 7.305\n",
    "# z = 8.397\n",
    "# z = 10.110\n",
    "\n",
    "n_igm = np.load('../dataset/rho_z%.3f.npy' %z)  # density of intergalactic medium\n",
    "n_src = np.load('../dataset/nsrc_z%.3f.npy' %z) # number of sources per volume\n",
    "xi = np.load('../dataset/xHII_z%.3f.npy' %z) # ionization fraction"
   ]
  },
  {
   "cell_type": "markdown",
   "metadata": {},
   "source": [
    "Definition of additional parameters:\n",
    "\n",
    "$\\color{red}{\\text{Not completely sure about max_mfp, to ask}}$"
   ]
  },
  {
   "cell_type": "code",
   "execution_count": 3,
   "metadata": {},
   "outputs": [],
   "source": [
    "box_res = 2.381 # = how many megaparsecs in one pixel edge (so a length in cMpc)\n",
    "max_mfp = 57.14 # max volume covered by source ionization (i.e. subvolume of side 24+1+24, in cMpc)"
   ]
  },
  {
   "cell_type": "markdown",
   "metadata": {},
   "source": [
    "Sizes analysis of the dataset:"
   ]
  },
  {
   "cell_type": "code",
   "execution_count": 4,
   "metadata": {},
   "outputs": [
    {
     "name": "stdout",
     "output_type": "stream",
     "text": [
      "(300, 300, 300)\n",
      "(300, 300, 300)\n",
      "(300, 300, 300)\n"
     ]
    }
   ],
   "source": [
    "print (n_igm.shape)\n",
    "print (n_src.shape)\n",
    "print (xi.shape)\n",
    "\n",
    "pixel_per_edge = n_igm.shape[0] # = 300"
   ]
  },
  {
   "cell_type": "markdown",
   "metadata": {},
   "source": [
    "All parameters are then evaluations on the coeval cube of 300 pixel per dimension."
   ]
  },
  {
   "cell_type": "markdown",
   "metadata": {},
   "source": [
    "Before passing to the normalization, it is important to recall that $n_{img}$ and $n_{src}$ are computed adopting two different units (the former is a density in the CGS unit system, the latter is instead a quantity per comoving mega-parsec). Then, it is reasonable to convert them in the same unit system. Formally:"
   ]
  },
  {
   "cell_type": "markdown",
   "metadata": {},
   "source": [
    "\\begin{equation}\n",
    "[ n_{igm}] = \\frac{g}{cm^3} = 10^{15} \\frac{g}{km^3} = 10^{15} \\cdot 3.09^3 \\cdot 10 ^ {39} \\frac{g}{pc^3} = 2.95 \\cdot 10^{55} \\frac{g}{pc^3}\n",
    "\\end{equation}"
   ]
  },
  {
   "cell_type": "markdown",
   "metadata": {},
   "source": [
    "The following transformation is then needed."
   ]
  },
  {
   "cell_type": "code",
   "execution_count": 5,
   "metadata": {},
   "outputs": [],
   "source": [
    "n_igm = 2.95 * 10**55 * n_igm"
   ]
  },
  {
   "cell_type": "markdown",
   "metadata": {},
   "source": [
    "## Normalization"
   ]
  },
  {
   "cell_type": "code",
   "execution_count": 6,
   "metadata": {
    "scrolled": true
   },
   "outputs": [
    {
     "name": "stdout",
     "output_type": "stream",
     "text": [
      "Chosen redshift:    7.305\n",
      "Mean Ionisation fraction:   0.7533418720408674\n"
     ]
    }
   ],
   "source": [
    "print('Chosen redshift:   ', z)\n",
    "print('Mean Ionisation fraction:  ', np.mean(xi))"
   ]
  },
  {
   "cell_type": "markdown",
   "metadata": {},
   "source": [
    "We now analyze more in detail what happens in each direction; we first choose to observe the behaviour of the 2 features and the output on the three orthogonal axes cutting the cube at its center of gravity."
   ]
  },
  {
   "cell_type": "code",
   "execution_count": 7,
   "metadata": {},
   "outputs": [
    {
     "name": "stdout",
     "output_type": "stream",
     "text": [
      "\n",
      "                                   MEAN VALUE ALONG EACH DIRECTION   \n",
      "\n",
      "                   x                            y                               z\n",
      "n_igm     1.1564589789595674e+25       1.1130535012706073e+25           1.1797878933858357e+25\n",
      "n_src     20918.686235631307           17146.738710606893              19699.80898203532\n",
      "xi        0.7047237362224594           0.6585446459674628              0.7675350039049594\n"
     ]
    }
   ],
   "source": [
    "x0 = int(pixel_per_edge/2) # = 150, central pixel of the cube edge\n",
    "\n",
    "n_igm_x = n_igm[:,x0,x0] \n",
    "n_src_x = n_src[:,x0,x0]\n",
    "xi_x = xi[:,x0,x0]\n",
    "\n",
    "n_igm_y = n_igm[x0,:,x0] \n",
    "n_src_y = n_src[x0,:,x0]\n",
    "xi_y = xi[x0,:,x0]\n",
    "\n",
    "n_igm_z = n_igm[x0,x0,:] \n",
    "n_src_z = n_src[x0,x0,:]\n",
    "xi_z = xi[x0,x0,:]\n",
    "\n",
    "print ('\\n                                   MEAN VALUE ALONG EACH DIRECTION   \\n')\n",
    "print ('                   x                            y                               z')\n",
    "print ('n_igm    ', np.mean(n_igm_x), '     ', np.mean(n_igm_y), '         ', np.mean(n_igm_z))\n",
    "print ('n_src    ', np.mean(n_src_x), '         ', np.mean(n_src_y), '            ', np.mean(n_src_z))\n",
    "print ('xi       ', np.mean(xi_x), '         ', np.mean(xi_y), '            ', np.mean(xi_z))"
   ]
  },
  {
   "cell_type": "markdown",
   "metadata": {},
   "source": [
    "It emerges that the scale of the two features $n_{igm}$ and $n_{src}$ is extremely different. Therefore, the preprocessing of the data must clearly include a normalization. As there is no significant difference of scale among the various dimensions, a first attempt can be normalizing the whole features using the total mean and standard variation $\\sigma$."
   ]
  },
  {
   "cell_type": "code",
   "execution_count": 8,
   "metadata": {},
   "outputs": [
    {
     "name": "stdout",
     "output_type": "stream",
     "text": [
      "\n",
      "              MIN AND MAX VALUES AFTER NORMALIZATION   \n",
      "\n",
      "                   x                            y \n",
      "n_igm     -2.168842398716399           15.120823603045926\n",
      "n_src     -0.5434308937395814          156.6221826854396\n",
      "xi        -2.523045976013896           0.9082910299731384\n"
     ]
    }
   ],
   "source": [
    "mean_n_igm = np.mean(n_igm)\n",
    "std_n_igm = np.std(n_igm)\n",
    "mean_n_src = np.mean(n_src)\n",
    "std_n_src = np.std(n_src)\n",
    "mean_n_xi = np.mean(xi)\n",
    "std_n_xi = np.std(xi)\n",
    "\n",
    "n_igm_norm = (n_igm - mean_n_igm) / std_n_igm\n",
    "n_src_norm = (n_src - mean_n_src) / std_n_src\n",
    "xi_norm = (xi - mean_n_xi) / std_n_xi\n",
    "\n",
    "\n",
    "print ('\\n              MIN AND MAX VALUES AFTER NORMALIZATION   \\n')\n",
    "print ('                   x                            y ')\n",
    "print ('n_igm    ', n_igm_norm.min(), '         ', n_igm_norm.max())\n",
    "print ('n_src    ', n_src_norm.min(), '        ', n_src_norm.max())\n",
    "print ('xi       ', xi_norm.min(), '         ', xi_norm.max())"
   ]
  },
  {
   "cell_type": "code",
   "execution_count": null,
   "metadata": {},
   "outputs": [],
   "source": []
  }
 ],
 "metadata": {
  "kernelspec": {
   "display_name": "Python 3",
   "language": "python",
   "name": "python3"
  },
  "language_info": {
   "codemirror_mode": {
    "name": "ipython",
    "version": 3
   },
   "file_extension": ".py",
   "mimetype": "text/x-python",
   "name": "python",
   "nbconvert_exporter": "python",
   "pygments_lexer": "ipython3",
   "version": "3.8.8"
  }
 },
 "nbformat": 4,
 "nbformat_minor": 4
}
